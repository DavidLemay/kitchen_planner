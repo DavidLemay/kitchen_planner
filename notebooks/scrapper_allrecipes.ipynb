{
 "cells": [
  {
   "cell_type": "code",
   "execution_count": 4,
   "metadata": {},
   "outputs": [],
   "source": [
    "from requests import get\n",
    "from requests.exceptions import RequestException\n",
    "from contextlib import closing\n",
    "from bs4 import BeautifulSoup\n",
    "import time"
   ]
  },
  {
   "cell_type": "markdown",
   "metadata": {},
   "source": [
    "###  Helper functions for http requests"
   ]
  },
  {
   "cell_type": "code",
   "execution_count": 5,
   "metadata": {},
   "outputs": [],
   "source": [
    "def get_raw_html(url):\n",
    "    \"\"\"\n",
    "    Use HTTP GET request to get raw html content, otherwise return None.\n",
    "    \"\"\"\n",
    "    try:\n",
    "        with closing(get(url, stream=True)) as resp:\n",
    "            if is_good_response(resp):\n",
    "                return resp.content\n",
    "            else:\n",
    "                return None\n",
    "\n",
    "    except RequestException as e:\n",
    "        log_error('Error during requests to {0} : {1}'.format(url, str(e)))\n",
    "        return None\n",
    "\n",
    "\n",
    "def is_good_response(resp):\n",
    "    \"\"\"\n",
    "    Returns True if response is succesful (status 200) and looks like html content,\n",
    "    False otherwise.\n",
    "    \"\"\"\n",
    "    content_type = resp.headers['Content-Type'].lower()\n",
    "    return (resp.status_code == 200 \n",
    "            and content_type is not None \n",
    "            and content_type.find('html') > -1)\n",
    "\n",
    "\n",
    "def log_error(e):\n",
    "    \"\"\"\n",
    "    Keep track of errors\n",
    "    TODO: expand this function to handle issues\n",
    "    \"\"\"\n",
    "    print(e)"
   ]
  },
  {
   "cell_type": "markdown",
   "metadata": {},
   "source": [
    "### Get recipe's html content"
   ]
  },
  {
   "cell_type": "code",
   "execution_count": 6,
   "metadata": {},
   "outputs": [],
   "source": [
    "url = 'https://www.allrecipes.com/recipe/60598/vegetarian-korma/?internalSource=hub%20recipe&referringContentType=Search'\n",
    "raw_html = get_raw_html(url)\n",
    "# apply html parser\n",
    "soup = BeautifulSoup(raw_html, 'html.parser')"
   ]
  },
  {
   "cell_type": "markdown",
   "metadata": {},
   "source": [
    "### Extract values"
   ]
  },
  {
   "cell_type": "markdown",
   "metadata": {},
   "source": [
    "#### Get tittle"
   ]
  },
  {
   "cell_type": "code",
   "execution_count": 7,
   "metadata": {},
   "outputs": [
    {
     "data": {
      "text/plain": [
       "'Vegetarian Korma Recipe'"
      ]
     },
     "execution_count": 7,
     "metadata": {},
     "output_type": "execute_result"
    }
   ],
   "source": [
    "title = soup.title.text[:-17] # -17 to remove site's name\n",
    "title"
   ]
  },
  {
   "cell_type": "markdown",
   "metadata": {},
   "source": [
    "#### Get ingredients"
   ]
  },
  {
   "cell_type": "code",
   "execution_count": 8,
   "metadata": {},
   "outputs": [],
   "source": [
    "li_checklist = soup.find_all('li', attrs={\"class\": \"checkList__line\"})\n",
    "ingredients = [li.span.text for li in li_checklist]"
   ]
  },
  {
   "cell_type": "markdown",
   "metadata": {},
   "source": [
    "#### Get time info"
   ]
  },
  {
   "cell_type": "code",
   "execution_count": 9,
   "metadata": {},
   "outputs": [
    {
     "data": {
      "text/plain": [
       "{'prep_time': 25, 'cook_time': 25, 'total_time': 25}"
      ]
     },
     "execution_count": 9,
     "metadata": {},
     "output_type": "execute_result"
    }
   ],
   "source": [
    "t_prep = soup.find('time', attrs={\"itemprop\": \"prepTime\"})\n",
    "t_cook = soup.find('time', attrs={\"itemprop\": \"prepTime\"})\n",
    "t_total = soup.find('time', attrs={\"itemprop\": \"prepTime\"})\n",
    "\n",
    "time_info = {\n",
    "    # Transform to int and remove ' m' at the end (with -2)\n",
    "    \"prep_time\": int(t_prep.text[:-2]),\n",
    "    \"cook_time\": int(t_cook.text[:-2]),\n",
    "    \"total_time\": int(t_total.text[:-2]),\n",
    "}\n",
    "time_info"
   ]
  },
  {
   "cell_type": "markdown",
   "metadata": {},
   "source": [
    "##  Scrapper func for All recipes"
   ]
  },
  {
   "cell_type": "code",
   "execution_count": 13,
   "metadata": {},
   "outputs": [],
   "source": [
    "def scrap_allrecipes(url):\n",
    "    \"\"\"\n",
    "    Takes a URL for a recipe from All Rrecipes and extracts title, time info, and ingredients\n",
    "    \n",
    "    Sample URL: https://www.allrecipes.com/recipe/60598/vegetarian-korma/?internalSource=hub%20recipe&referringContentType=Search\n",
    "    \"\"\"\n",
    "    t_start = time.time()\n",
    "    print(\"Scrapping begins...\")\n",
    "    print(url)\n",
    "    \n",
    "    # Get Recipes html content \n",
    "    raw_html = get_raw_html(url)\n",
    "    soup = BeautifulSoup(raw_html, 'html.parser')\n",
    "\n",
    "    # get title\n",
    "    title = soup.title.text[:-17] # -17 to remove site's name\n",
    "\n",
    "    # get ingredients\n",
    "    li_checklist = soup.find_all('li', attrs={\"class\": \"checkList__line\"})\n",
    "    ingredients = [li.span.text for li in li_checklist]\n",
    "\n",
    "    # get time info\n",
    "    t_prep = soup.find('time', attrs={\"itemprop\": \"prepTime\"})\n",
    "    t_cook = soup.find('time', attrs={\"itemprop\": \"prepTime\"})\n",
    "    t_total = soup.find('time', attrs={\"itemprop\": \"prepTime\"})\n",
    "\n",
    "    time_info = {\n",
    "        # Transform to int and remove ' m' at the end (with -2)\n",
    "        \"prep_time\": int(t_prep.text[:-2]),\n",
    "        \"cook_time\": int(t_cook.text[:-2]),\n",
    "        \"total_time\": int(t_total.text[:-2]),\n",
    "    }\n",
    "\n",
    "    # Output\n",
    "    recipe_info = {\n",
    "        'title': title,\n",
    "        'ingredients': ingredients[:-3], # remove last 3 items, non-ingredients\n",
    "        'time_info': time_info,\n",
    "        'url': url\n",
    "    }\n",
    "    print(\"Finished! (%s)\" %(time.time()-t_start))\n",
    "    return recipe_info"
   ]
  },
  {
   "cell_type": "code",
   "execution_count": 14,
   "metadata": {},
   "outputs": [],
   "source": [
    "recipes_url = [\n",
    "    'https://www.allrecipes.com/recipe/244204/miso-oatmeal-bowl/',\n",
    "    'https://www.allrecipes.com/recipe/16641/red-lentil-curry/',\n",
    "    'https://www.allrecipes.com/recipe/60598/vegetarian-korma/',\n",
    "    'https://www.allrecipes.com/recipe/257938/spicy-thai-basil-chicken-pad-krapow-gai/',\n",
    "    'https://www.allrecipes.com/recipe/246628/spaghetti-cacio-e-pepe'\n",
    "]"
   ]
  },
  {
   "cell_type": "code",
   "execution_count": 15,
   "metadata": {
    "scrolled": false
   },
   "outputs": [
    {
     "name": "stdout",
     "output_type": "stream",
     "text": [
      "Scrapping begins...\n",
      "https://www.allrecipes.com/recipe/244204/miso-oatmeal-bowl/\n",
      "Finished! (0.9137167930603027)\n",
      "Scrapping begins...\n",
      "https://www.allrecipes.com/recipe/16641/red-lentil-curry/\n",
      "Finished! (0.9690983295440674)\n",
      "Scrapping begins...\n",
      "https://www.allrecipes.com/recipe/60598/vegetarian-korma/\n",
      "Finished! (1.0253701210021973)\n",
      "Scrapping begins...\n",
      "https://www.allrecipes.com/recipe/257938/spicy-thai-basil-chicken-pad-krapow-gai/\n",
      "Finished! (0.8336892127990723)\n",
      "Scrapping begins...\n",
      "https://www.allrecipes.com/recipe/246628/spaghetti-cacio-e-pepe\n",
      "Finished! (1.3421673774719238)\n"
     ]
    },
    {
     "data": {
      "text/plain": [
       "5"
      ]
     },
     "execution_count": 15,
     "metadata": {},
     "output_type": "execute_result"
    }
   ],
   "source": [
    "top_5 = [scrap_allrecipes(recipe) for recipe in recipes_url]\n",
    "len(top_5)"
   ]
  },
  {
   "cell_type": "code",
   "execution_count": 16,
   "metadata": {},
   "outputs": [
    {
     "data": {
      "text/plain": [
       "{'title': 'Vegetarian Korma Recipe',\n",
       " 'ingredients': ['1 1/2 tablespoons vegetable oil',\n",
       "  '1 small onion, diced',\n",
       "  '1 teaspoon minced fresh ginger root',\n",
       "  '4 cloves garlic, minced',\n",
       "  '2 potatoes, cubed',\n",
       "  '4 carrots, cubed',\n",
       "  '1 fresh jalapeno pepper, seeded and sliced',\n",
       "  '3 tablespoons ground unsalted cashews',\n",
       "  '1 (4 ounce) can tomato sauce',\n",
       "  '2 teaspoons salt',\n",
       "  '1 1/2 tablespoons curry powder',\n",
       "  '1 cup frozen green peas',\n",
       "  '1/2 green bell pepper, chopped',\n",
       "  '1/2 red bell pepper, chopped',\n",
       "  '1 cup heavy cream',\n",
       "  '1 bunch fresh cilantro for garnish'],\n",
       " 'time_info': {'prep_time': 25, 'cook_time': 25, 'total_time': 25},\n",
       " 'url': 'https://www.allrecipes.com/recipe/60598/vegetarian-korma/'}"
      ]
     },
     "execution_count": 16,
     "metadata": {},
     "output_type": "execute_result"
    }
   ],
   "source": [
    "top_5[2]"
   ]
  }
 ],
 "metadata": {
  "kernelspec": {
   "display_name": "Python 3",
   "language": "python",
   "name": "python3"
  },
  "language_info": {
   "codemirror_mode": {
    "name": "ipython",
    "version": 3
   },
   "file_extension": ".py",
   "mimetype": "text/x-python",
   "name": "python",
   "nbconvert_exporter": "python",
   "pygments_lexer": "ipython3",
   "version": "3.7.1"
  }
 },
 "nbformat": 4,
 "nbformat_minor": 2
}
